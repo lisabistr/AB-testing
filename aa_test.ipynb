{
 "cells": [
  {
   "cell_type": "markdown",
   "id": "27ede83f-1e92-4a88-840b-d84f8890fab8",
   "metadata": {},
   "source": [
    "Перед AB-тестированием нужно проверить, что система сплитования работает корректно: CTR не отличается в экспериментальных группах.\n",
    "Это позволит при AB-тестировании быть уверенными, что статистически значимые различия между экспериментальными группами\n",
    "не связаны с тем, что в группах изначально были различия.\n",
    "\n",
    "Итак, у нас есть данные АА-теста с '2022-01-07' по '2022-01-13'. Сделаем симуляцию, как будто мы провели 10000 АА-тестов. \n",
    "На каждой итерации будем сравнивать t-тестом (t-критерий Стьюдента) подвыборки по 500 юзеров из 2 и 3 экспериментальной группы. \n"
   ]
  },
  {
   "cell_type": "code",
   "execution_count": 119,
   "id": "827ad2b4-616e-41af-9d7d-c2d1b1edab2f",
   "metadata": {},
   "outputs": [],
   "source": [
    "from CH import Getch\n",
    "import pandas as pd\n",
    "import seaborn as sns\n",
    "import matplotlib.pyplot as plt\n",
    "from scipy import stats\n",
    "import numpy as np"
   ]
  },
  {
   "cell_type": "code",
   "execution_count": 120,
   "id": "e8377e42-a291-4c9e-bc1f-7dec6a0099f4",
   "metadata": {},
   "outputs": [],
   "source": [
    "query = '''\n",
    "        select user_id, exp_group, \n",
    "        countIf(user_id, action = 'like') as likes, \n",
    "        countIf(user_id, action = 'view') as views, \n",
    "        likes / views as ctr\n",
    "        from {db}.feed_actions\n",
    "        where toDate(time) >= '2022-01-07' and  toDate(time) <= '2022-01-13'\n",
    "        and exp_group in (2, 3)\n",
    "        group by user_id, exp_group\n",
    "        '''\n",
    "df = Getch(query).df"
   ]
  },
  {
   "cell_type": "code",
   "execution_count": 121,
   "id": "8bd65a6e-f6bf-421a-9be0-1fc3ea6727e7",
   "metadata": {},
   "outputs": [
    {
     "data": {
      "text/html": [
       "<div>\n",
       "<style scoped>\n",
       "    .dataframe tbody tr th:only-of-type {\n",
       "        vertical-align: middle;\n",
       "    }\n",
       "\n",
       "    .dataframe tbody tr th {\n",
       "        vertical-align: top;\n",
       "    }\n",
       "\n",
       "    .dataframe thead th {\n",
       "        text-align: right;\n",
       "    }\n",
       "</style>\n",
       "<table border=\"1\" class=\"dataframe\">\n",
       "  <thead>\n",
       "    <tr style=\"text-align: right;\">\n",
       "      <th></th>\n",
       "      <th>user_id</th>\n",
       "      <th>exp_group</th>\n",
       "      <th>likes</th>\n",
       "      <th>views</th>\n",
       "      <th>ctr</th>\n",
       "    </tr>\n",
       "  </thead>\n",
       "  <tbody>\n",
       "    <tr>\n",
       "      <th>0</th>\n",
       "      <td>115383</td>\n",
       "      <td>3</td>\n",
       "      <td>11</td>\n",
       "      <td>36</td>\n",
       "      <td>0.305556</td>\n",
       "    </tr>\n",
       "    <tr>\n",
       "      <th>1</th>\n",
       "      <td>123580</td>\n",
       "      <td>3</td>\n",
       "      <td>15</td>\n",
       "      <td>92</td>\n",
       "      <td>0.163043</td>\n",
       "    </tr>\n",
       "    <tr>\n",
       "      <th>2</th>\n",
       "      <td>131473</td>\n",
       "      <td>2</td>\n",
       "      <td>26</td>\n",
       "      <td>148</td>\n",
       "      <td>0.175676</td>\n",
       "    </tr>\n",
       "    <tr>\n",
       "      <th>3</th>\n",
       "      <td>23985</td>\n",
       "      <td>2</td>\n",
       "      <td>12</td>\n",
       "      <td>66</td>\n",
       "      <td>0.181818</td>\n",
       "    </tr>\n",
       "    <tr>\n",
       "      <th>4</th>\n",
       "      <td>24523</td>\n",
       "      <td>2</td>\n",
       "      <td>17</td>\n",
       "      <td>120</td>\n",
       "      <td>0.141667</td>\n",
       "    </tr>\n",
       "  </tbody>\n",
       "</table>\n",
       "</div>"
      ],
      "text/plain": [
       "   user_id  exp_group  likes  views       ctr\n",
       "0   115383          3     11     36  0.305556\n",
       "1   123580          3     15     92  0.163043\n",
       "2   131473          2     26    148  0.175676\n",
       "3    23985          2     12     66  0.181818\n",
       "4    24523          2     17    120  0.141667"
      ]
     },
     "execution_count": 121,
     "metadata": {},
     "output_type": "execute_result"
    }
   ],
   "source": [
    "df.head(5) # Исходные данные AA-теста"
   ]
  },
  {
   "cell_type": "code",
   "execution_count": 122,
   "id": "9a86709c-890b-41d1-a8ed-d844f7109c89",
   "metadata": {},
   "outputs": [],
   "source": [
    "# Функция для подсчета p-value в 10000 выборок и процента p-values, которые меньше или равны 0.05\n",
    "\n",
    "def p_values_calculate(df1, df2, n_values = 500, tests_count = 10000):\n",
    "    p_value = np.zeros(tests_count)\n",
    "    p_val_less = 0\n",
    "    for i in range(tests_count):\n",
    "        df1_sample = df1.sample(n=n_values, replace=True)\n",
    "        df2_sample = df2.sample(n=n_values, replace=True)\n",
    "        p_value[i] = stats.ttest_ind(df1_sample, df2_sample).pvalue\n",
    "        if p_value[i] <= 0.05:\n",
    "            p_val_less += 1\n",
    "    p_val_percent = np.round(p_val_less / tests_count * 100, 2)\n",
    "    return p_value, p_val_percent"
   ]
  },
  {
   "cell_type": "code",
   "execution_count": 123,
   "id": "16f75427-870c-4c74-826f-ea5f653effa5",
   "metadata": {},
   "outputs": [],
   "source": [
    "p_values, p_val_percent = p_values_calculate(df[df.exp_group == 2].ctr, df[df.exp_group == 3].ctr)"
   ]
  },
  {
   "cell_type": "code",
   "execution_count": 129,
   "id": "5fc6ff36-4925-46df-9192-469fd5f027bc",
   "metadata": {},
   "outputs": [
    {
     "data": {
      "text/plain": [
       "Text(3.799999999999997, 0.5, 'Количество t-тестов')"
      ]
     },
     "execution_count": 129,
     "metadata": {},
     "output_type": "execute_result"
    },
    {
     "data": {
      "image/png": "[encoded data removed]",
      "text/plain": [
       "<Figure size 360x360 with 1 Axes>"
      ]
     },
     "metadata": {
      "needs_background": "light"
     },
     "output_type": "display_data"
    }
   ],
   "source": [
    "# Распределение p-values\n",
    "\n",
    "sns.displot(p_values)\n",
    "plt.xlabel('Значение p-value')\n",
    "plt.ylabel('Количество t-тестов')"
   ]
  },
  {
   "cell_type": "code",
   "execution_count": 130,
   "id": "67474488-f774-45d4-9836-bdfcb0af4c02",
   "metadata": {},
   "outputs": [
    {
     "name": "stdout",
     "output_type": "stream",
     "text": [
      "Процент t-тестов, в которых p-value оказался меньше или равен 0.05:  4.96 %\n"
     ]
    }
   ],
   "source": [
    "print('Процент t-тестов, в которых p-value оказался меньше или равен 0.05: ', p_val_percent, '%')"
   ]
  },
  {
   "cell_type": "markdown",
   "id": "9a1ec933-3e48-4ce6-a946-85c13061753b",
   "metadata": {},
   "source": [
    "Лишь в 4.96% случаев нам удалось отклонить нулевую гипотезу о том, что значение признака CTR в двух группах не различается. \n",
    "Так как мы принимали нулевую гипотезу при условии, что p_value < 0.05, то эти ~ 5% соответствуют случайному ложному срабатыванию.\n",
    "\n",
    "Следовательно, наша **система сплитования работает корректно**."
   ]
  }
 ],
 "metadata": {
  "kernelspec": {
   "display_name": "Python 3 (ipykernel)",
   "language": "python",
   "name": "python3"
  },
  "language_info": {
   "codemirror_mode": {
    "name": "ipython",
    "version": 3
   },
   "file_extension": ".py",
   "mimetype": "text/x-python",
   "name": "python",
   "nbconvert_exporter": "python",
   "pygments_lexer": "ipython3",
   "version": "3.8.10"
  }
 },
 "nbformat": 4,
 "nbformat_minor": 5
}
