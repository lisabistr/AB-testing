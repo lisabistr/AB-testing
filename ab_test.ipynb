{
 "cells": [
  {
   "cell_type": "markdown",
   "id": "212771c1-2c84-4a3d-96f5-aa1b8cb9c563",
   "metadata": {},
   "source": [
    "Эксперимент проходил  с 2022-01-28 по 2022-02-03 включительно. Для эксперимента были задействованы 0 и 1 группы.  \n",
    "В 1 группе был использован новый алгоритм рекомендации постов, 0 группа использовалась в качестве контроля. \n",
    "\n",
    "Проверим, появились ли статистически значимые различия в CTR у групп 0 и 1.\n",
    "\n",
    "Как можно сравнить CTR:\n",
    "1. Посчитать CTR для каждого пользователя в друх группах и сравнить группы по критерию Манна Уитни.\n",
    "1. Посчитать CTR для каждого пользователя в друх группах и сравнить группы t-тестом (если величина выборок позволяет).\n",
    "1. Сравнить общий CTR в друх группах, используя Bootstrap."
   ]
  },
  {
   "cell_type": "code",
   "execution_count": 3,
   "id": "9acac9fa-16ad-4493-9fa6-483051269219",
   "metadata": {},
   "outputs": [],
   "source": [
    "from CH import Getch\n",
    "import pandas as pd\n",
    "import seaborn as sns\n",
    "import matplotlib.pyplot as plt\n",
    "from scipy import stats\n",
    "import numpy as np"
   ]
  },
  {
   "cell_type": "code",
   "execution_count": 4,
   "id": "a59cccb2-b110-4115-9b81-a250dc92faa3",
   "metadata": {},
   "outputs": [],
   "source": [
    "query = '''\n",
    "        select user_id, exp_group, \n",
    "        countIf(user_id, action = 'like') as likes, \n",
    "        countIf(user_id, action = 'view') as views, \n",
    "        likes / views as ctr\n",
    "        from {db}.feed_actions\n",
    "        where toDate(time) >= '2022-01-28' and  toDate(time) <= '2022-02-03'\n",
    "        and exp_group in (0, 1)\n",
    "        group by user_id, exp_group\n",
    "        '''\n",
    "df = Getch(query).df"
   ]
  },
  {
   "cell_type": "code",
   "execution_count": 5,
   "id": "d54412ce-755e-4e6f-8114-bbe4764e9b06",
   "metadata": {},
   "outputs": [
    {
     "data": {
      "text/html": [
       "<div>\n",
       "<style scoped>\n",
       "    .dataframe tbody tr th:only-of-type {\n",
       "        vertical-align: middle;\n",
       "    }\n",
       "\n",
       "    .dataframe tbody tr th {\n",
       "        vertical-align: top;\n",
       "    }\n",
       "\n",
       "    .dataframe thead th {\n",
       "        text-align: right;\n",
       "    }\n",
       "</style>\n",
       "<table border=\"1\" class=\"dataframe\">\n",
       "  <thead>\n",
       "    <tr style=\"text-align: right;\">\n",
       "      <th></th>\n",
       "      <th>user_id</th>\n",
       "      <th>exp_group</th>\n",
       "      <th>likes</th>\n",
       "      <th>views</th>\n",
       "      <th>ctr</th>\n",
       "    </tr>\n",
       "  </thead>\n",
       "  <tbody>\n",
       "    <tr>\n",
       "      <th>0</th>\n",
       "      <td>26117</td>\n",
       "      <td>1</td>\n",
       "      <td>5</td>\n",
       "      <td>21</td>\n",
       "      <td>0.238095</td>\n",
       "    </tr>\n",
       "    <tr>\n",
       "      <th>1</th>\n",
       "      <td>138232</td>\n",
       "      <td>1</td>\n",
       "      <td>5</td>\n",
       "      <td>29</td>\n",
       "      <td>0.172414</td>\n",
       "    </tr>\n",
       "    <tr>\n",
       "      <th>2</th>\n",
       "      <td>49204</td>\n",
       "      <td>1</td>\n",
       "      <td>10</td>\n",
       "      <td>62</td>\n",
       "      <td>0.161290</td>\n",
       "    </tr>\n",
       "    <tr>\n",
       "      <th>3</th>\n",
       "      <td>49286</td>\n",
       "      <td>1</td>\n",
       "      <td>7</td>\n",
       "      <td>19</td>\n",
       "      <td>0.368421</td>\n",
       "    </tr>\n",
       "    <tr>\n",
       "      <th>4</th>\n",
       "      <td>145957</td>\n",
       "      <td>1</td>\n",
       "      <td>54</td>\n",
       "      <td>129</td>\n",
       "      <td>0.418605</td>\n",
       "    </tr>\n",
       "  </tbody>\n",
       "</table>\n",
       "</div>"
      ],
      "text/plain": [
       "   user_id  exp_group  likes  views       ctr\n",
       "0    26117          1      5     21  0.238095\n",
       "1   138232          1      5     29  0.172414\n",
       "2    49204          1     10     62  0.161290\n",
       "3    49286          1      7     19  0.368421\n",
       "4   145957          1     54    129  0.418605"
      ]
     },
     "execution_count": 5,
     "metadata": {},
     "output_type": "execute_result"
    }
   ],
   "source": [
    "df.head()"
   ]
  },
  {
   "cell_type": "code",
   "execution_count": 6,
   "id": "ad729879-3e21-4e63-a0b6-5aa3ebb04949",
   "metadata": {},
   "outputs": [],
   "source": [
    "df0 = df[df.exp_group == 0]\n",
    "df1 = df[df.exp_group == 1]"
   ]
  },
  {
   "cell_type": "code",
   "execution_count": 7,
   "id": "830b0600-3c1f-49a2-919c-c4327ac7e333",
   "metadata": {},
   "outputs": [
    {
     "data": {
      "text/plain": [
       "count    12997.000000\n",
       "mean         0.221955\n",
       "std          0.087870\n",
       "min          0.000000\n",
       "25%          0.166667\n",
       "50%          0.208333\n",
       "75%          0.266667\n",
       "max          0.769231\n",
       "Name: ctr, dtype: float64"
      ]
     },
     "execution_count": 7,
     "metadata": {},
     "output_type": "execute_result"
    },
    {
     "data": {
      "image/png": "[encoded data removed]",
      "text/plain": [
       "<Figure size 360x360 with 1 Axes>"
      ]
     },
     "metadata": {
      "needs_background": "light"
     },
     "output_type": "display_data"
    }
   ],
   "source": [
    "sns.displot(df0.ctr)\n",
    "df0.ctr.describe()"
   ]
  },
  {
   "cell_type": "code",
   "execution_count": 8,
   "id": "bc5615b0-a491-4a5f-ad56-5b0f2f9077de",
   "metadata": {},
   "outputs": [
    {
     "data": {
      "text/plain": [
       "count    13002.000000\n",
       "mean         0.236486\n",
       "std          0.090146\n",
       "min          0.000000\n",
       "25%          0.178082\n",
       "50%          0.224138\n",
       "75%          0.285714\n",
       "max          0.800000\n",
       "Name: ctr, dtype: float64"
      ]
     },
     "execution_count": 8,
     "metadata": {},
     "output_type": "execute_result"
    },
    {
     "data": {
      "image/png": "[encoded data removed]",
      "text/plain": [
       "<Figure size 360x360 with 1 Axes>"
      ]
     },
     "metadata": {
      "needs_background": "light"
     },
     "output_type": "display_data"
    }
   ],
   "source": [
    "sns.displot(df1.ctr)\n",
    "df1.ctr.describe()"
   ]
  },
  {
   "cell_type": "markdown",
   "id": "a6a8130b-140d-4f41-a79a-1c8ec32b8659",
   "metadata": {},
   "source": [
    "## Промежуточные выводы\n",
    "Можно заметить, что среднее значение CTR у экспериментальной группы 1 выше, чем у контрольной группы 0. \n",
    "Теперь необходимо проверить, что различия в CTR у двух групп являются статистически значимыми.\n",
    "\n",
    "Возьмем две гипотезы:\n",
    "* H0 – распределение CTR в группах 0 и 1 статистически значимо не различается.\n",
    "* H1 – распределение CTR в группах 0 и 1 статистически значимо различается.\n",
    "\n",
    "Для начала используем статистические критериии:\n",
    "* U-критерий Манна — Уитни.\n",
    "* t-критерий Стьюдента.\n",
    "\n",
    "**Примечание.** Распределение CTR имеет легкую ассиметрию и выбросы, однако мы все же можем использовать t-критерий, так как величина выборок достаточно велика (~13000)."
   ]
  },
  {
   "cell_type": "code",
   "execution_count": 9,
   "id": "e3ce1af6-a02b-4957-b593-1ea4742c6387",
   "metadata": {},
   "outputs": [
    {
     "data": {
      "text/plain": [
       "MannwhitneyuResult(statistic=75455843.5, pvalue=1.9101702958848542e-50)"
      ]
     },
     "execution_count": 9,
     "metadata": {},
     "output_type": "execute_result"
    }
   ],
   "source": [
    "stats.mannwhitneyu(df0.ctr, df1.ctr)"
   ]
  },
  {
   "cell_type": "code",
   "execution_count": 10,
   "id": "4b4bb70b-a80e-437e-8f98-459277b5fe26",
   "metadata": {},
   "outputs": [
    {
     "data": {
      "text/plain": [
       "Ttest_indResult(statistic=-13.161104283251186, pvalue=1.9646203782402242e-39)"
      ]
     },
     "execution_count": 10,
     "metadata": {},
     "output_type": "execute_result"
    }
   ],
   "source": [
    "stats.ttest_ind(df0.ctr, df1.ctr)"
   ]
  },
  {
   "cell_type": "markdown",
   "id": "331a5bd8-3567-4d79-b317-9d2d8ddeb2bd",
   "metadata": {},
   "source": [
    "P-value стремится к 0 –> мы можем отклонить нулевую гипотезу.\n",
    "**Вывод**: CTR в группах 0 и 1 статистически значимо различается."
   ]
  },
  {
   "cell_type": "markdown",
   "id": "279810a0-f869-4d73-bb9b-385a5ad7c7ca",
   "metadata": {},
   "source": [
    "Для дополнительной проверки сравним общий CTR в выборках. Для этого из двух групп будем последовательно выбирать \n",
    "подвыборки из 500 юзеров и находить среди них общий CTR. Затем посмотрим на распределение p-value по выборкам."
   ]
  },
  {
   "cell_type": "code",
   "execution_count": 11,
   "id": "b1ded103-8141-4398-95b4-c1ec30171493",
   "metadata": {},
   "outputs": [],
   "source": [
    "# Функция возвращает доверительный интервал CTR и его среднее значение, а также визуализирует распределение CTR\n",
    "\n",
    "def bootstrap_global_ctr(df, n_values = 5000):\n",
    "    global_ctr = np.zeros(n_values)\n",
    "    for i in range(n_values):\n",
    "        subsample = df.sample(frac = 0.5, replace=True)\n",
    "        global_ctr[i] = subsample.likes.sum() / subsample.views.sum()\n",
    "        \n",
    "    sns.displot(global_ctr)\n",
    "    plt.xlabel('Global CTR')\n",
    "    \n",
    "    return [\n",
    "        pd.Series(global_ctr).quantile(0.05),\n",
    "        pd.Series(global_ctr).mean(),\n",
    "        pd.Series(global_ctr).quantile(0.95)\n",
    "    ]\n",
    "            "
   ]
  },
  {
   "cell_type": "code",
   "execution_count": 12,
   "id": "4bb9d2fa-8fe0-4f30-ab96-c39ee73a258f",
   "metadata": {},
   "outputs": [
    {
     "data": {
      "text/plain": [
       "[0.21152508498352107, 0.21309185325507843, 0.21468627477157537]"
      ]
     },
     "execution_count": 12,
     "metadata": {},
     "output_type": "execute_result"
    },
    {
     "data": {
      "image/png": "[encoded data removed]",
      "text/plain": [
       "<Figure size 360x360 with 1 Axes>"
      ]
     },
     "metadata": {
      "needs_background": "light"
     },
     "output_type": "display_data"
    }
   ],
   "source": [
    "bootstrap_global_ctr(df0)"
   ]
  },
  {
   "cell_type": "code",
   "execution_count": 13,
   "id": "0b3f1991-c8a5-4c07-94f2-3c9d643bb206",
   "metadata": {},
   "outputs": [
    {
     "data": {
      "text/plain": [
       "[0.22833059775681522, 0.22990517325477805, 0.23151653690948917]"
      ]
     },
     "execution_count": 13,
     "metadata": {},
     "output_type": "execute_result"
    },
    {
     "data": {
      "image/png": "[encoded data removed]",
      "text/plain": [
       "<Figure size 360x360 with 1 Axes>"
      ]
     },
     "metadata": {
      "needs_background": "light"
     },
     "output_type": "display_data"
    }
   ],
   "source": [
    "bootstrap_global_ctr(df1)"
   ]
  },
  {
   "cell_type": "markdown",
   "id": "7300d29c-4b7e-4e84-b98a-f8bbb5d79fb7",
   "metadata": {},
   "source": [
    "Доверительные интервалы не пересекаются, что дополнительно подтверждает, что CTR в двух группах различается."
   ]
  },
  {
   "cell_type": "markdown",
   "id": "5103da67-d495-4855-b34f-ddb2b32b745c",
   "metadata": {},
   "source": [
    "**Важно!** Хоть при внедрении нового алгоритма и увеличился CTR, но есть вероятность, что при этом уменьшилось количество просмотров. Необходимо это проверить перед тем, как раскатывать алгоритм на всю аудиторию.\n",
    "\n",
    "Проверим это также с помощью критерия Манна Уитни, t-теста и Bootstrap."
   ]
  },
  {
   "cell_type": "code",
   "execution_count": 16,
   "id": "83deacdf-fb70-45f0-9388-207064810bdd",
   "metadata": {},
   "outputs": [
    {
     "data": {
      "text/plain": [
       "MannwhitneyuResult(statistic=84514942.0, pvalue=0.9717276363684261)"
      ]
     },
     "execution_count": 16,
     "metadata": {},
     "output_type": "execute_result"
    }
   ],
   "source": [
    "stats.mannwhitneyu(df0.views, df1.views)"
   ]
  },
  {
   "cell_type": "code",
   "execution_count": 17,
   "id": "83b7597a-cd8c-49d9-b7bd-274dad7e07db",
   "metadata": {},
   "outputs": [
    {
     "data": {
      "text/plain": [
       "Ttest_indResult(statistic=0.1855745874228441, pvalue=0.8527798314430739)"
      ]
     },
     "execution_count": 17,
     "metadata": {},
     "output_type": "execute_result"
    }
   ],
   "source": [
    "stats.ttest_ind(df0.views, df1.views)"
   ]
  },
  {
   "cell_type": "code",
   "execution_count": 28,
   "id": "0fe04ee7-0d11-416e-9fe7-c0d123ebf8c4",
   "metadata": {},
   "outputs": [],
   "source": [
    "# В этот раз будем проверять каждую подвыбоку из просмотров критерием Манна Уитни и проверим, в каком проценте случаев p-value\n",
    "# будет меньше или равен 0.05\n",
    "\n",
    "def bootstrap_views(df0, df1, n_values = 500, tests_count = 7000):\n",
    "    p_value = np.zeros(tests_count)\n",
    "    p_less = 0\n",
    "    for i in range(tests_count):\n",
    "        subsample0 = df0.sample(n=n_values, replace=True)\n",
    "        subsample1 = df1.sample(n=n_values, replace=True)\n",
    "        p_value[i] = stats.mannwhitneyu(subsample0, subsample1).pvalue\n",
    "        if p_value[i] <= 0.05:\n",
    "            p_less += 1\n",
    "    sns.displot(p_value)\n",
    "    plt.xlabel('p-value')\n",
    "    \n",
    "    return p_less / tests_count\n",
    "    "
   ]
  },
  {
   "cell_type": "code",
   "execution_count": 31,
   "id": "2a9ef3b3-99df-459a-a186-3207c80b6dde",
   "metadata": {},
   "outputs": [
    {
     "name": "stdout",
     "output_type": "stream",
     "text": [
      "Процент t-тестов, в которых p-value оказался меньше или равен 0.05:  4.56 %\n"
     ]
    },
    {
     "data": {
      "image/png": "[encoded data removed]",
      "text/plain": [
       "<Figure size 360x360 with 1 Axes>"
      ]
     },
     "metadata": {
      "needs_background": "light"
     },
     "output_type": "display_data"
    }
   ],
   "source": [
    "print('Процент t-тестов, в которых p-value оказался меньше или равен 0.05: ', \n",
    "      np.round(bootstrap_views(df0.views, df1.views)*100, 2), '%')"
   ]
  },
  {
   "cell_type": "markdown",
   "id": "383b2f9c-ca57-4a8f-95c7-2925c5d2c7da",
   "metadata": {},
   "source": [
    "Сравнение просмотров в двух группах по критерию Манна Уитни и t-тестом не позволило отклонить нулевую гипотезу о том, что между выборками нет статистически значимых различий (p-value больше 0.05). Также при сравнении подвыборок методом Bootstrap p-value оказался меньше или равен 0.05 лишь в 4.56% случаев. \n",
    "\n",
    "Это подтверждает, что при внедрении нового алгоритма **количество просмотров не изменилось**. **CTR** при этом **вырос**.\n",
    "\n",
    "**Вывод**: рекомендуется раскатить новый алгоритм на всех пользователей.\n"
   ]
  }
 ],
 "metadata": {
  "kernelspec": {
   "display_name": "Python 3 (ipykernel)",
   "language": "python",
   "name": "python3"
  },
  "language_info": {
   "codemirror_mode": {
    "name": "ipython",
    "version": 3
   },
   "file_extension": ".py",
   "mimetype": "text/x-python",
   "name": "python",
   "nbconvert_exporter": "python",
   "pygments_lexer": "ipython3",
   "version": "3.8.10"
  }
 },
 "nbformat": 4,
 "nbformat_minor": 5
}
